{
  "cells": [
    {
      "cell_type": "markdown",
      "metadata": {
        "id": "view-in-github",
        "colab_type": "text"
      },
      "source": [
        "<a href=\"https://colab.research.google.com/github/Abdulrahmansoliman/Skin-cancer-image-classifier/blob/main/Copy_of_Baseline_CNN.ipynb\" target=\"_parent\"><img src=\"https://colab.research.google.com/assets/colab-badge.svg\" alt=\"Open In Colab\"/></a>"
      ]
    },
    {
      "cell_type": "code",
      "execution_count": null,
      "metadata": {
        "id": "HeBr3U9dzBBg"
      },
      "outputs": [],
      "source": [
        "import numpy as np\n",
        "import pandas as pd\n",
        "from sklearn.model_selection import train_test_split\n",
        "from keras.utils.np_utils import to_categorical # convert to one-hot-encoding\n",
        "\n",
        "from tensorflow.keras.preprocessing.image import ImageDataGenerator\n",
        "from tensorflow.keras import layers\n",
        "from tensorflow.keras import Model\n",
        "from tensorflow.keras.optimizers.legacy import Adam\n",
        "\n",
        "from tensorflow.keras.callbacks import ReduceLROnPlateau\n",
        "%matplotlib inline\n",
        "\n",
        "import matplotlib.pyplot as plt"
      ]
    },
    {
      "cell_type": "code",
      "source": [
        "from google.colab import drive\n",
        "drive.mount('/content/drive')"
      ],
      "metadata": {
        "colab": {
          "base_uri": "https://localhost:8080/"
        },
        "id": "DPaQcUh5Wemj",
        "outputId": "f4932874-3be2-4698-bd0a-a04ebaa3312e"
      },
      "execution_count": null,
      "outputs": [
        {
          "output_type": "stream",
          "name": "stdout",
          "text": [
            "Mounted at /content/drive\n"
          ]
        }
      ]
    },
    {
      "cell_type": "markdown",
      "metadata": {
        "id": "M1BzjwNzUB1T"
      },
      "source": [
        "## Load In the Data"
      ]
    },
    {
      "cell_type": "code",
      "execution_count": null,
      "metadata": {
        "id": "F3zhcgJD4lhk"
      },
      "outputs": [],
      "source": [
        "skin_df = pd.read_csv('/content/drive/MyDrive/hmnist_64_64_RGB.csv')"
      ]
    },
    {
      "cell_type": "code",
      "execution_count": null,
      "metadata": {
        "colab": {
          "base_uri": "https://localhost:8080/",
          "height": 299
        },
        "id": "W-viELZ74uN2",
        "outputId": "b50023f8-2e28-4bb2-a32a-291e830e3e90"
      },
      "outputs": [
        {
          "output_type": "execute_result",
          "data": {
            "text/plain": [
              "   pixel0000  pixel0001  pixel0002  pixel0003  pixel0004  pixel0005  \\\n",
              "0        191        152        194        191        153        195   \n",
              "1         24         13         23         24         14         28   \n",
              "2        185        129        140        192        136        151   \n",
              "3         24         11         19         36         19         30   \n",
              "4        138         94        117        158        113        138   \n",
              "\n",
              "   pixel0006  pixel0007  pixel0008  pixel0009  ...  pixel12279  pixel12280  \\\n",
              "0        192        149        192        194  ...         185         154   \n",
              "1         37         24         46         61  ...          26          15   \n",
              "2        198        142        156        198  ...         152         120   \n",
              "3         64         38         50         91  ...          27          13   \n",
              "4        178        133        161        191  ...         140         106   \n",
              "\n",
              "   pixel12281  pixel12282  pixel12283  pixel12284  pixel12285  pixel12286  \\\n",
              "0         180         186         156         184         182         152   \n",
              "1          29          27          15          28          24          13   \n",
              "2         138         144         113         123         115          81   \n",
              "3          16          25          12          16          24           9   \n",
              "4         118         108          77          92          67          40   \n",
              "\n",
              "   pixel12287  label  \n",
              "0         173      2  \n",
              "1          25      2  \n",
              "2          84      2  \n",
              "3          14      2  \n",
              "4          55      2  \n",
              "\n",
              "[5 rows x 12289 columns]"
            ],
            "text/html": [
              "\n",
              "  <div id=\"df-e27d9531-1ec7-428e-b902-a4d6bf1c5cce\">\n",
              "    <div class=\"colab-df-container\">\n",
              "      <div>\n",
              "<style scoped>\n",
              "    .dataframe tbody tr th:only-of-type {\n",
              "        vertical-align: middle;\n",
              "    }\n",
              "\n",
              "    .dataframe tbody tr th {\n",
              "        vertical-align: top;\n",
              "    }\n",
              "\n",
              "    .dataframe thead th {\n",
              "        text-align: right;\n",
              "    }\n",
              "</style>\n",
              "<table border=\"1\" class=\"dataframe\">\n",
              "  <thead>\n",
              "    <tr style=\"text-align: right;\">\n",
              "      <th></th>\n",
              "      <th>pixel0000</th>\n",
              "      <th>pixel0001</th>\n",
              "      <th>pixel0002</th>\n",
              "      <th>pixel0003</th>\n",
              "      <th>pixel0004</th>\n",
              "      <th>pixel0005</th>\n",
              "      <th>pixel0006</th>\n",
              "      <th>pixel0007</th>\n",
              "      <th>pixel0008</th>\n",
              "      <th>pixel0009</th>\n",
              "      <th>...</th>\n",
              "      <th>pixel12279</th>\n",
              "      <th>pixel12280</th>\n",
              "      <th>pixel12281</th>\n",
              "      <th>pixel12282</th>\n",
              "      <th>pixel12283</th>\n",
              "      <th>pixel12284</th>\n",
              "      <th>pixel12285</th>\n",
              "      <th>pixel12286</th>\n",
              "      <th>pixel12287</th>\n",
              "      <th>label</th>\n",
              "    </tr>\n",
              "  </thead>\n",
              "  <tbody>\n",
              "    <tr>\n",
              "      <th>0</th>\n",
              "      <td>191</td>\n",
              "      <td>152</td>\n",
              "      <td>194</td>\n",
              "      <td>191</td>\n",
              "      <td>153</td>\n",
              "      <td>195</td>\n",
              "      <td>192</td>\n",
              "      <td>149</td>\n",
              "      <td>192</td>\n",
              "      <td>194</td>\n",
              "      <td>...</td>\n",
              "      <td>185</td>\n",
              "      <td>154</td>\n",
              "      <td>180</td>\n",
              "      <td>186</td>\n",
              "      <td>156</td>\n",
              "      <td>184</td>\n",
              "      <td>182</td>\n",
              "      <td>152</td>\n",
              "      <td>173</td>\n",
              "      <td>2</td>\n",
              "    </tr>\n",
              "    <tr>\n",
              "      <th>1</th>\n",
              "      <td>24</td>\n",
              "      <td>13</td>\n",
              "      <td>23</td>\n",
              "      <td>24</td>\n",
              "      <td>14</td>\n",
              "      <td>28</td>\n",
              "      <td>37</td>\n",
              "      <td>24</td>\n",
              "      <td>46</td>\n",
              "      <td>61</td>\n",
              "      <td>...</td>\n",
              "      <td>26</td>\n",
              "      <td>15</td>\n",
              "      <td>29</td>\n",
              "      <td>27</td>\n",
              "      <td>15</td>\n",
              "      <td>28</td>\n",
              "      <td>24</td>\n",
              "      <td>13</td>\n",
              "      <td>25</td>\n",
              "      <td>2</td>\n",
              "    </tr>\n",
              "    <tr>\n",
              "      <th>2</th>\n",
              "      <td>185</td>\n",
              "      <td>129</td>\n",
              "      <td>140</td>\n",
              "      <td>192</td>\n",
              "      <td>136</td>\n",
              "      <td>151</td>\n",
              "      <td>198</td>\n",
              "      <td>142</td>\n",
              "      <td>156</td>\n",
              "      <td>198</td>\n",
              "      <td>...</td>\n",
              "      <td>152</td>\n",
              "      <td>120</td>\n",
              "      <td>138</td>\n",
              "      <td>144</td>\n",
              "      <td>113</td>\n",
              "      <td>123</td>\n",
              "      <td>115</td>\n",
              "      <td>81</td>\n",
              "      <td>84</td>\n",
              "      <td>2</td>\n",
              "    </tr>\n",
              "    <tr>\n",
              "      <th>3</th>\n",
              "      <td>24</td>\n",
              "      <td>11</td>\n",
              "      <td>19</td>\n",
              "      <td>36</td>\n",
              "      <td>19</td>\n",
              "      <td>30</td>\n",
              "      <td>64</td>\n",
              "      <td>38</td>\n",
              "      <td>50</td>\n",
              "      <td>91</td>\n",
              "      <td>...</td>\n",
              "      <td>27</td>\n",
              "      <td>13</td>\n",
              "      <td>16</td>\n",
              "      <td>25</td>\n",
              "      <td>12</td>\n",
              "      <td>16</td>\n",
              "      <td>24</td>\n",
              "      <td>9</td>\n",
              "      <td>14</td>\n",
              "      <td>2</td>\n",
              "    </tr>\n",
              "    <tr>\n",
              "      <th>4</th>\n",
              "      <td>138</td>\n",
              "      <td>94</td>\n",
              "      <td>117</td>\n",
              "      <td>158</td>\n",
              "      <td>113</td>\n",
              "      <td>138</td>\n",
              "      <td>178</td>\n",
              "      <td>133</td>\n",
              "      <td>161</td>\n",
              "      <td>191</td>\n",
              "      <td>...</td>\n",
              "      <td>140</td>\n",
              "      <td>106</td>\n",
              "      <td>118</td>\n",
              "      <td>108</td>\n",
              "      <td>77</td>\n",
              "      <td>92</td>\n",
              "      <td>67</td>\n",
              "      <td>40</td>\n",
              "      <td>55</td>\n",
              "      <td>2</td>\n",
              "    </tr>\n",
              "  </tbody>\n",
              "</table>\n",
              "<p>5 rows × 12289 columns</p>\n",
              "</div>\n",
              "      <button class=\"colab-df-convert\" onclick=\"convertToInteractive('df-e27d9531-1ec7-428e-b902-a4d6bf1c5cce')\"\n",
              "              title=\"Convert this dataframe to an interactive table.\"\n",
              "              style=\"display:none;\">\n",
              "        \n",
              "  <svg xmlns=\"http://www.w3.org/2000/svg\" height=\"24px\"viewBox=\"0 0 24 24\"\n",
              "       width=\"24px\">\n",
              "    <path d=\"M0 0h24v24H0V0z\" fill=\"none\"/>\n",
              "    <path d=\"M18.56 5.44l.94 2.06.94-2.06 2.06-.94-2.06-.94-.94-2.06-.94 2.06-2.06.94zm-11 1L8.5 8.5l.94-2.06 2.06-.94-2.06-.94L8.5 2.5l-.94 2.06-2.06.94zm10 10l.94 2.06.94-2.06 2.06-.94-2.06-.94-.94-2.06-.94 2.06-2.06.94z\"/><path d=\"M17.41 7.96l-1.37-1.37c-.4-.4-.92-.59-1.43-.59-.52 0-1.04.2-1.43.59L10.3 9.45l-7.72 7.72c-.78.78-.78 2.05 0 2.83L4 21.41c.39.39.9.59 1.41.59.51 0 1.02-.2 1.41-.59l7.78-7.78 2.81-2.81c.8-.78.8-2.07 0-2.86zM5.41 20L4 18.59l7.72-7.72 1.47 1.35L5.41 20z\"/>\n",
              "  </svg>\n",
              "      </button>\n",
              "      \n",
              "  <style>\n",
              "    .colab-df-container {\n",
              "      display:flex;\n",
              "      flex-wrap:wrap;\n",
              "      gap: 12px;\n",
              "    }\n",
              "\n",
              "    .colab-df-convert {\n",
              "      background-color: #E8F0FE;\n",
              "      border: none;\n",
              "      border-radius: 50%;\n",
              "      cursor: pointer;\n",
              "      display: none;\n",
              "      fill: #1967D2;\n",
              "      height: 32px;\n",
              "      padding: 0 0 0 0;\n",
              "      width: 32px;\n",
              "    }\n",
              "\n",
              "    .colab-df-convert:hover {\n",
              "      background-color: #E2EBFA;\n",
              "      box-shadow: 0px 1px 2px rgba(60, 64, 67, 0.3), 0px 1px 3px 1px rgba(60, 64, 67, 0.15);\n",
              "      fill: #174EA6;\n",
              "    }\n",
              "\n",
              "    [theme=dark] .colab-df-convert {\n",
              "      background-color: #3B4455;\n",
              "      fill: #D2E3FC;\n",
              "    }\n",
              "\n",
              "    [theme=dark] .colab-df-convert:hover {\n",
              "      background-color: #434B5C;\n",
              "      box-shadow: 0px 1px 3px 1px rgba(0, 0, 0, 0.15);\n",
              "      filter: drop-shadow(0px 1px 2px rgba(0, 0, 0, 0.3));\n",
              "      fill: #FFFFFF;\n",
              "    }\n",
              "  </style>\n",
              "\n",
              "      <script>\n",
              "        const buttonEl =\n",
              "          document.querySelector('#df-e27d9531-1ec7-428e-b902-a4d6bf1c5cce button.colab-df-convert');\n",
              "        buttonEl.style.display =\n",
              "          google.colab.kernel.accessAllowed ? 'block' : 'none';\n",
              "\n",
              "        async function convertToInteractive(key) {\n",
              "          const element = document.querySelector('#df-e27d9531-1ec7-428e-b902-a4d6bf1c5cce');\n",
              "          const dataTable =\n",
              "            await google.colab.kernel.invokeFunction('convertToInteractive',\n",
              "                                                     [key], {});\n",
              "          if (!dataTable) return;\n",
              "\n",
              "          const docLinkHtml = 'Like what you see? Visit the ' +\n",
              "            '<a target=\"_blank\" href=https://colab.research.google.com/notebooks/data_table.ipynb>data table notebook</a>'\n",
              "            + ' to learn more about interactive tables.';\n",
              "          element.innerHTML = '';\n",
              "          dataTable['output_type'] = 'display_data';\n",
              "          await google.colab.output.renderOutput(dataTable, element);\n",
              "          const docLink = document.createElement('div');\n",
              "          docLink.innerHTML = docLinkHtml;\n",
              "          element.appendChild(docLink);\n",
              "        }\n",
              "      </script>\n",
              "    </div>\n",
              "  </div>\n",
              "  "
            ]
          },
          "metadata": {},
          "execution_count": 5
        }
      ],
      "source": [
        "skin_df.head()"
      ]
    },
    {
      "cell_type": "code",
      "execution_count": null,
      "metadata": {
        "id": "C1psqaTj45AM"
      },
      "outputs": [],
      "source": [
        "X = skin_df.drop(\"label\", axis=1).values\n",
        "label = skin_df[\"label\"].values"
      ]
    },
    {
      "cell_type": "code",
      "execution_count": null,
      "metadata": {
        "colab": {
          "base_uri": "https://localhost:8080/"
        },
        "id": "1e2D7SCz5LQh",
        "outputId": "033770db-4934-499c-bc43-231373c2acb8"
      },
      "outputs": [
        {
          "output_type": "execute_result",
          "data": {
            "text/plain": [
              "((10015, 12288), (10015,))"
            ]
          },
          "metadata": {},
          "execution_count": 6
        }
      ],
      "source": [
        "X.shape, label.shape"
      ]
    },
    {
      "cell_type": "markdown",
      "metadata": {
        "id": "E3iU_vSjUIpn"
      },
      "source": [
        "## Scaling and Split Data into Train, Validation and Test set"
      ]
    },
    {
      "cell_type": "code",
      "execution_count": null,
      "metadata": {
        "id": "q25NL3-X5jry",
        "colab": {
          "base_uri": "https://localhost:8080/"
        },
        "outputId": "c01997fe-1bec-4e39-bc15-3abc10a0161d"
      },
      "outputs": [
        {
          "output_type": "stream",
          "name": "stdout",
          "text": [
            "159.8194591494919 46.388207881604245\n"
          ]
        }
      ],
      "source": [
        "X_mean = np.mean(X)\n",
        "X_std = np.std(X)\n",
        "\n",
        "X = (X - X_mean)/X_std\n",
        "\n",
        "print (X_mean,X_std)"
      ]
    },
    {
      "cell_type": "code",
      "execution_count": null,
      "metadata": {
        "id": "oGH8wMmy6Mew"
      },
      "outputs": [],
      "source": [
        "X_train_orig, X_test, y_train_orig, y_test = train_test_split(X, label, test_size=0.1,random_state=0)"
      ]
    },
    {
      "cell_type": "code",
      "execution_count": null,
      "metadata": {
        "colab": {
          "base_uri": "https://localhost:8080/"
        },
        "id": "hU0BQ6c6B1tu",
        "outputId": "f8193af0-2528-4285-ade9-ad230cd402f6"
      },
      "outputs": [
        {
          "output_type": "execute_result",
          "data": {
            "text/plain": [
              "((9013, 12288), (1002, 12288), (9013,), (1002,))"
            ]
          },
          "metadata": {},
          "execution_count": 10
        }
      ],
      "source": [
        "X_train_orig.shape, X_test.shape, y_train_orig.shape, y_test.shape"
      ]
    },
    {
      "cell_type": "code",
      "execution_count": null,
      "metadata": {
        "id": "_WzFxSy1ByyY"
      },
      "outputs": [],
      "source": [
        "X_train, X_val, y_train, y_val = train_test_split(X_train_orig, y_train_orig, test_size=0.2, random_state=1)"
      ]
    },
    {
      "cell_type": "code",
      "execution_count": null,
      "metadata": {
        "colab": {
          "base_uri": "https://localhost:8080/"
        },
        "id": "HiK1KmsMCF5B",
        "outputId": "e29eb91e-8b63-4800-c3d6-697a4b782476"
      },
      "outputs": [
        {
          "output_type": "execute_result",
          "data": {
            "text/plain": [
              "((7210, 12288), (1803, 12288), (7210,), (1803,))"
            ]
          },
          "metadata": {},
          "execution_count": 12
        }
      ],
      "source": [
        "X_train.shape, X_val.shape, y_train.shape, y_val.shape"
      ]
    },
    {
      "cell_type": "markdown",
      "metadata": {
        "id": "4Zl7b9mFURFJ"
      },
      "source": [
        "## Reshape the Data to Input in CNN"
      ]
    },
    {
      "cell_type": "code",
      "execution_count": null,
      "metadata": {
        "id": "mdbb6U1W6mx2"
      },
      "outputs": [],
      "source": [
        "X_train = X_train.reshape(X_train.shape[0], *(64, 64, 3))\n",
        "X_val = X_val.reshape(X_val.shape[0], *(64, 64, 3))\n",
        "X_test = X_test.reshape(X_test.shape[0], *(64, 64, 3))"
      ]
    },
    {
      "cell_type": "code",
      "execution_count": null,
      "metadata": {
        "colab": {
          "base_uri": "https://localhost:8080/"
        },
        "id": "odlh2eEz629K",
        "outputId": "8be23c78-d0f2-42c8-cd45-6c54cef0070c"
      },
      "outputs": [
        {
          "output_type": "execute_result",
          "data": {
            "text/plain": [
              "((7210, 64, 64, 3), (1803, 64, 64, 3), (1002, 64, 64, 3))"
            ]
          },
          "metadata": {},
          "execution_count": 14
        }
      ],
      "source": [
        "X_train.shape, X_val.shape, X_test.shape"
      ]
    },
    {
      "cell_type": "code",
      "execution_count": null,
      "metadata": {
        "colab": {
          "base_uri": "https://localhost:8080/"
        },
        "id": "ToBfm6FCE82c",
        "outputId": "40382cf0-998c-4f26-e6c0-e1a291b3e930"
      },
      "outputs": [
        {
          "output_type": "execute_result",
          "data": {
            "text/plain": [
              "(7210,)"
            ]
          },
          "metadata": {},
          "execution_count": 15
        }
      ],
      "source": [
        "y_train.shape"
      ]
    },
    {
      "cell_type": "code",
      "execution_count": null,
      "metadata": {
        "id": "bv1nE9AkBMXJ"
      },
      "outputs": [],
      "source": [
        "y_train = to_categorical(y_train)\n",
        "y_val = to_categorical(y_val)\n",
        "y_test = to_categorical(y_test)"
      ]
    },
    {
      "cell_type": "code",
      "execution_count": null,
      "metadata": {
        "colab": {
          "base_uri": "https://localhost:8080/"
        },
        "id": "UuRfmdeYCsW5",
        "outputId": "dfba6c7e-2aef-4de0-e067-0eaee8603a0c"
      },
      "outputs": [
        {
          "output_type": "execute_result",
          "data": {
            "text/plain": [
              "((7210, 7), (1803, 7), (1002, 7))"
            ]
          },
          "metadata": {},
          "execution_count": 17
        }
      ],
      "source": [
        "y_train.shape, y_val.shape, y_test.shape"
      ]
    },
    {
      "cell_type": "markdown",
      "metadata": {
        "id": "5vVaAuWtUVJU"
      },
      "source": [
        "## CNN Model"
      ]
    },
    {
      "cell_type": "code",
      "execution_count": null,
      "metadata": {
        "colab": {
          "base_uri": "https://localhost:8080/"
        },
        "id": "9i2prFW67mwJ",
        "outputId": "75ff9480-2ff1-4d15-9922-88bf64bd0253"
      },
      "outputs": [
        {
          "output_type": "stream",
          "name": "stderr",
          "text": [
            "/usr/local/lib/python3.10/dist-packages/keras/optimizers/legacy/adam.py:117: UserWarning: The `lr` argument is deprecated, use `learning_rate` instead.\n",
            "  super().__init__(name, **kwargs)\n"
          ]
        }
      ],
      "source": [
        "# Our input feature map is 64x64x3: 64x64 for the image pixels, and 3 for\n",
        "# the three color channels: R, G, and B\n",
        "img_input = layers.Input(shape=(64, 64, 3))\n",
        "\n",
        "# First convolution extracts 16 filters that are 3x3\n",
        "# Convolution is followed by max-pooling layer with a 2x2 window\n",
        "x = layers.Conv2D(16, 3, activation='relu', padding='same')(img_input)\n",
        "x = layers.MaxPooling2D(2)(x)\n",
        "\n",
        "# Second convolution extracts 32 filters that are 3x3\n",
        "# Convolution is followed by max-pooling layer with a 2x2 window\n",
        "x = layers.Conv2D(32, 3, activation='relu', padding='same')(x)\n",
        "x = layers.MaxPooling2D(2)(x)\n",
        "\n",
        "# Third convolution extracts 64 filters that are 3x3\n",
        "# Convolution is followed by max-pooling layer with a 2x2 window\n",
        "x = layers.Convolution2D(64, 3, activation='relu', padding='same')(x)\n",
        "x = layers.MaxPooling2D(2)(x)\n",
        "\n",
        "# Flatten feature map to a 1-dim tensor\n",
        "x = layers.Flatten()(x)\n",
        "\n",
        "# Create a fully connected layer with ReLU activation and 512 hidden units\n",
        "x = layers.Dense(512, activation='relu')(x)\n",
        "\n",
        "# Add a dropout rate of 0.5\n",
        "x = layers.Dropout(0.5)(x)\n",
        "\n",
        "# Create output layer with a single node and sigmoid activation\n",
        "output = layers.Dense(7, activation='softmax')(x)\n",
        "\n",
        "# Configure and compile the model\n",
        "model = Model(img_input, output)\n",
        "\n",
        "optimizer = Adam(lr=0.001, beta_1=0.9, beta_2=0.999, epsilon=None, decay=0.0, amsgrad=False)\n",
        "\n",
        "model.compile(loss='categorical_crossentropy', optimizer=optimizer, metrics=['accuracy'])"
      ]
    },
    {
      "cell_type": "code",
      "execution_count": null,
      "metadata": {
        "colab": {
          "base_uri": "https://localhost:8080/"
        },
        "id": "JXh46jmDA9c6",
        "outputId": "4675807b-4415-46a6-e240-51c89bfbf16b"
      },
      "outputs": [
        {
          "output_type": "stream",
          "name": "stdout",
          "text": [
            "Model: \"model\"\n",
            "_________________________________________________________________\n",
            " Layer (type)                Output Shape              Param #   \n",
            "=================================================================\n",
            " input_1 (InputLayer)        [(None, 64, 64, 3)]       0         \n",
            "                                                                 \n",
            " conv2d (Conv2D)             (None, 64, 64, 16)        448       \n",
            "                                                                 \n",
            " max_pooling2d (MaxPooling2D  (None, 32, 32, 16)       0         \n",
            " )                                                               \n",
            "                                                                 \n",
            " conv2d_1 (Conv2D)           (None, 32, 32, 32)        4640      \n",
            "                                                                 \n",
            " max_pooling2d_1 (MaxPooling  (None, 16, 16, 32)       0         \n",
            " 2D)                                                             \n",
            "                                                                 \n",
            " conv2d_2 (Conv2D)           (None, 16, 16, 64)        18496     \n",
            "                                                                 \n",
            " max_pooling2d_2 (MaxPooling  (None, 8, 8, 64)         0         \n",
            " 2D)                                                             \n",
            "                                                                 \n",
            " flatten (Flatten)           (None, 4096)              0         \n",
            "                                                                 \n",
            " dense (Dense)               (None, 512)               2097664   \n",
            "                                                                 \n",
            " dropout (Dropout)           (None, 512)               0         \n",
            "                                                                 \n",
            " dense_1 (Dense)             (None, 7)                 3591      \n",
            "                                                                 \n",
            "=================================================================\n",
            "Total params: 2,124,839\n",
            "Trainable params: 2,124,839\n",
            "Non-trainable params: 0\n",
            "_________________________________________________________________\n"
          ]
        }
      ],
      "source": [
        "model.summary()"
      ]
    },
    {
      "cell_type": "markdown",
      "metadata": {
        "id": "fSoYM0JEUbGT"
      },
      "source": [
        "## Define Data Generator for Data Augmentation and Learning Rate Adaptive Reduction to Prevent Overfitting"
      ]
    },
    {
      "cell_type": "code",
      "execution_count": null,
      "metadata": {
        "id": "_ITW1SFVFuHk"
      },
      "outputs": [],
      "source": [
        "train_datagen = ImageDataGenerator(rotation_range=40, width_shift_range=0.2, height_shift_range=0.2,\n",
        "                             shear_range=0.2, zoom_range=0.2, horizontal_flip=True, fill_mode='nearest')\n",
        "\n",
        "train_datagen.fit(X_train)\n",
        "\n",
        "val_datagen = ImageDataGenerator()\n",
        "val_datagen.fit(X_val)"
      ]
    },
    {
      "cell_type": "code",
      "execution_count": null,
      "metadata": {
        "id": "-FvlOkvw8GJ0"
      },
      "outputs": [],
      "source": [
        "learning_rate_reduction = ReduceLROnPlateau(monitor='val_acc', patience=3, verbose=1, factor=0.5, min_lr=0.00001)"
      ]
    },
    {
      "cell_type": "code",
      "execution_count": null,
      "metadata": {
        "colab": {
          "base_uri": "https://localhost:8080/"
        },
        "id": "epgliUU-_EWz",
        "outputId": "abd3ee4b-ea33-4aa0-9530-4f4f2ec84f97"
      },
      "outputs": [
        {
          "output_type": "stream",
          "name": "stdout",
          "text": [
            "112/112 [==============================] - ETA: 0s - loss: 1.0133 - accuracy: 0.6648"
          ]
        },
        {
          "output_type": "stream",
          "name": "stderr",
          "text": [
            "WARNING:tensorflow:Learning rate reduction is conditioned on metric `val_acc` which is not available. Available metrics are: loss,accuracy,val_loss,val_accuracy,lr\n"
          ]
        },
        {
          "output_type": "stream",
          "name": "stdout",
          "text": [
            "\b\b\b\b\b\b\b\b\b\b\b\b\b\b\b\b\b\b\b\b\b\b\b\b\b\b\b\b\b\b\b\b\b\b\b\b\b\b\b\b\b\b\b\b\b\b\b\b\b\b\b\b\b\b\b\b\b\b\b\b\b\b\b\b\b\b\b\b\b\b\b\b\b\b\b\b\b\b\b\b\b\b\b\b\r112/112 [==============================] - 11s 96ms/step - loss: 1.0133 - accuracy: 0.6648 - val_loss: 0.8876 - val_accuracy: 0.6916 - lr: 0.0010\n"
          ]
        }
      ],
      "source": [
        "batch_size = 64\n",
        "epochs = 1\n",
        "history = model.fit(train_datagen.flow(X_train,y_train, batch_size=batch_size),\n",
        "                              epochs = epochs, validation_data = val_datagen.flow(X_val, y_val),\n",
        "                              verbose = 1, steps_per_epoch=(X_train.shape[0] // batch_size),\n",
        "                              callbacks=[learning_rate_reduction])"
      ]
    },
    {
      "cell_type": "code",
      "execution_count": null,
      "metadata": {
        "colab": {
          "base_uri": "https://localhost:8080/"
        },
        "id": "pzmhcKchK3fQ",
        "outputId": "9933c84a-69ee-436a-b014-fac5093cb4b3"
      },
      "outputs": [
        {
          "output_type": "stream",
          "name": "stdout",
          "text": [
            "32/32 [==============================] - 0s 7ms/step - loss: 0.8727 - accuracy: 0.6876\n",
            "57/57 [==============================] - 0s 4ms/step - loss: 0.8876 - accuracy: 0.6916\n",
            "Validation: accuracy = 0.691625  ;  loss_v = 0.887581\n",
            "Test: accuracy = 0.687625  ;  loss = 0.872738\n"
          ]
        }
      ],
      "source": [
        "loss_test, acc_test = model.evaluate(X_test, y_test, verbose=1)\n",
        "loss_val, acc_val = model.evaluate(X_val, y_val, verbose=1)\n",
        "print(\"Validation: accuracy = %f  ;  loss_v = %f\" % (acc_val, loss_val))\n",
        "print(\"Test: accuracy = %f  ;  loss = %f\" % (acc_test, loss_test))\n",
        "model.save(\"model.h5\")"
      ]
    },
    {
      "cell_type": "code",
      "execution_count": null,
      "metadata": {
        "colab": {
          "base_uri": "https://localhost:8080/",
          "height": 905
        },
        "id": "z-XsupKP_orF",
        "outputId": "0b208089-1897-4056-8ffe-bffd825fcb68"
      },
      "outputs": [
        {
          "output_type": "execute_result",
          "data": {
            "text/plain": [
              "Text(0.5, 1.0, 'Training and validation loss')"
            ]
          },
          "metadata": {},
          "execution_count": 26
        },
        {
          "output_type": "display_data",
          "data": {
            "text/plain": [
              "<Figure size 640x480 with 1 Axes>"
            ],
            "image/png": "[encoded data removed]"
          },
          "metadata": {}
        },
        {
          "output_type": "display_data",
          "data": {
            "text/plain": [
              "<Figure size 640x480 with 1 Axes>"
            ],
            "image/png": "[encoded data removed]"
          },
          "metadata": {}
        }
      ],
      "source": [
        "# Retrieve a list of accuracy results on training and test data\n",
        "# sets for each training epoch\n",
        "acc = history.history['accuracy']\n",
        "val_acc = history.history['val_accuracy']\n",
        "\n",
        "# Retrieve a list of list results on training and test data\n",
        "# sets for each training epoch\n",
        "loss = history.history['loss']\n",
        "val_loss = history.history['val_loss']\n",
        "\n",
        "# Get number of epochs\n",
        "epochs = range(len(acc))\n",
        "\n",
        "# Plot training and validation accuracy per epoch\n",
        "plt.plot(epochs, acc)\n",
        "plt.plot(epochs, val_acc)\n",
        "plt.title('Training and validation accuracy')\n",
        "\n",
        "plt.figure()\n",
        "\n",
        "# Plot training and validation loss per epoch\n",
        "plt.plot(epochs, loss)\n",
        "plt.plot(epochs, val_loss)\n",
        "plt.title('Training and validation loss')"
      ]
    },
    {
      "cell_type": "code",
      "source": [
        "print(X_test[0].shape)"
      ],
      "metadata": {
        "colab": {
          "base_uri": "https://localhost:8080/"
        },
        "id": "eeY9sKgTjzhP",
        "outputId": "239f61b4-4f9f-4770-ea81-c09f131046dd"
      },
      "execution_count": null,
      "outputs": [
        {
          "output_type": "stream",
          "name": "stdout",
          "text": [
            "(64, 64, 3)\n"
          ]
        }
      ]
    },
    {
      "cell_type": "code",
      "source": [
        "for i in range(10):\n",
        "  import random\n",
        "  j=random.randint(0,len(y_test))\n",
        "  print(f'for {j}: prediction: {np.argmax(model.predict(X_test[j].reshape(1, 64, 64, 3)))}  Actual: {np.argmax(y_test[j])}')"
      ],
      "metadata": {
        "colab": {
          "base_uri": "https://localhost:8080/"
        },
        "id": "prD168b-mmM2",
        "outputId": "b8471e25-15ef-4d8f-c545-18bcbda08758"
      },
      "execution_count": null,
      "outputs": [
        {
          "output_type": "stream",
          "name": "stdout",
          "text": [
            "[2 2 2 ... 0 0 6]\n",
            "1/1 [==============================] - 0s 26ms/step\n",
            "for 128: prediction: 4  Actual: 4\n",
            "1/1 [==============================] - 0s 30ms/step\n",
            "for 53: prediction: 4  Actual: 1\n",
            "1/1 [==============================] - 0s 26ms/step\n",
            "for 616: prediction: 4  Actual: 4\n",
            "1/1 [==============================] - 0s 29ms/step\n",
            "for 459: prediction: 4  Actual: 2\n",
            "1/1 [==============================] - 0s 26ms/step\n",
            "for 761: prediction: 4  Actual: 2\n",
            "1/1 [==============================] - 0s 29ms/step\n",
            "for 579: prediction: 4  Actual: 4\n",
            "1/1 [==============================] - 0s 25ms/step\n",
            "for 762: prediction: 4  Actual: 4\n",
            "1/1 [==============================] - 0s 25ms/step\n",
            "for 645: prediction: 1  Actual: 0\n",
            "1/1 [==============================] - 0s 25ms/step\n",
            "for 333: prediction: 4  Actual: 4\n",
            "1/1 [==============================] - 0s 28ms/step\n",
            "for 836: prediction: 4  Actual: 4\n"
          ]
        }
      ]
    },
    {
      "cell_type": "code",
      "source": [
        "t=0\n",
        "for j in range(len(y_test)):\n",
        "  if(np.argmax(model.predict(X_test[j].reshape(1, 64, 64, 3),verbose = 0))==np.argmax(y_test[j])):\n",
        "    t+=1\n",
        "  if(t%100==0):\n",
        "    print(f'done {t} images')\n",
        "print(f'accuracy: {t/len(y_test)}')"
      ],
      "metadata": {
        "colab": {
          "base_uri": "https://localhost:8080/"
        },
        "id": "JJf7lHwEpO7J",
        "outputId": "20318ece-76d5-4942-aea5-23b095554259"
      },
      "execution_count": null,
      "outputs": [
        {
          "output_type": "stream",
          "name": "stdout",
          "text": [
            "done 100 images\n",
            "done 200 images\n",
            "done 200 images\n",
            "done 300 images\n",
            "done 400 images\n",
            "done 400 images\n",
            "done 500 images\n",
            "done 500 images\n",
            "done 600 images\n",
            "done 700 images\n",
            "accuracy: 0.7445109780439122\n"
          ]
        }
      ]
    },
    {
      "cell_type": "code",
      "source": [
        "import numpy as np\n",
        "import matplotlib.pyplot as plt\n",
        "\n",
        "# Create a numpy array representing an RGB image with size (64, 64, 3)\n",
        "image = X_test[1].reshape(64, 64, 3)\n",
        "# Display the image using matplotlib\n",
        "plt.imshow(image)\n",
        "plt.show()\n",
        "\n",
        "x = np.argmax(model.predict(X_test[1].reshape(1, 64, 64, 3),verbose = 0))\n",
        "\n",
        "print(x)\n"
      ],
      "metadata": {
        "colab": {
          "base_uri": "https://localhost:8080/",
          "height": 467
        },
        "id": "mOngMutYqWcu",
        "outputId": "2b1b03ea-9dae-4ad4-af41-8fa3de3b782e"
      },
      "execution_count": null,
      "outputs": [
        {
          "output_type": "stream",
          "name": "stderr",
          "text": [
            "WARNING:matplotlib.image:Clipping input data to the valid range for imshow with RGB data ([0..1] for floats or [0..255] for integers).\n"
          ]
        },
        {
          "output_type": "display_data",
          "data": {
            "text/plain": [
              "<Figure size 640x480 with 1 Axes>"
            ],
            "image/png": "[encoded data removed]"
          },
          "metadata": {}
        },
        {
          "output_type": "stream",
          "name": "stdout",
          "text": [
            "4\n"
          ]
        }
      ]
    }
  ],
  "metadata": {
    "accelerator": "GPU",
    "colab": {
      "provenance": [],
      "include_colab_link": true
    },
    "kernelspec": {
      "display_name": "Python 3",
      "language": "python",
      "name": "python3"
    },
    "language_info": {
      "codemirror_mode": {
        "name": "ipython",
        "version": 3
      },
      "file_extension": ".py",
      "mimetype": "text/x-python",
      "name": "python",
      "nbconvert_exporter": "python",
      "pygments_lexer": "ipython3",
      "version": "3.6.4"
    }
  },
  "nbformat": 4,
  "nbformat_minor": 0
}